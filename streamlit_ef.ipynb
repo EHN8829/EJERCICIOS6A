{
  "nbformat": 4,
  "nbformat_minor": 0,
  "metadata": {
    "colab": {
      "provenance": [],
      "authorship_tag": "ABX9TyPc6K06TSLKIXu/3KYsSeaN",
      "include_colab_link": true
    },
    "kernelspec": {
      "name": "python3",
      "display_name": "Python 3"
    },
    "language_info": {
      "name": "python"
    }
  },
  "cells": [
    {
      "cell_type": "markdown",
      "metadata": {
        "id": "view-in-github",
        "colab_type": "text"
      },
      "source": [
        "<a href=\"https://colab.research.google.com/github/EHN8829/EJERCICIOS6A/blob/main/streamlit_ef.ipynb\" target=\"_parent\"><img src=\"https://colab.research.google.com/assets/colab-badge.svg\" alt=\"Open In Colab\"/></a>"
      ]
    },
    {
      "cell_type": "code",
      "execution_count": null,
      "metadata": {
        "id": "DWDsCHKBSij2"
      },
      "outputs": [],
      "source": [
        "import streamlit as st\n",
        "from googleapiclient.discovery import build\n",
        "import pandas as pd\n",
        "from textblob import TextBlob\n",
        "\n",
        "# Título de la aplicación\n",
        "st.title('Análisis de Sentimientos en YouTube')\n",
        "\n",
        "# Entrada para la clave de API de YouTube\n",
        "api_key = st.text_input('Introduce tu clave de API de YouTube')\n",
        "\n",
        "# Entrada para la palabra clave de búsqueda\n",
        "keyword = st.text_input('Introduce una palabra clave para buscar videos')\n",
        "\n",
        "if api_key and keyword:\n",
        "    # Construcción del cliente de la API de YouTube\n",
        "    youtube = build(\"youtube\", \"v3\", developerKey=api_key)\n",
        "\n",
        "    # Realización de la búsqueda de videos usando la palabra clave\n",
        "    request = youtube.search().list(\n",
        "        part=\"snippet\",\n",
        "        q=keyword,\n",
        "        type=\"video\",\n",
        "        maxResults=5  # Se puede ajustar el número de resultados\n",
        "    )\n",
        "\n",
        "    response = request.execute()\n",
        "\n",
        "    # Presentación de los títulos y los ID de los videos\n",
        "    video_ids = []\n",
        "    for item in response.get('items', []):\n",
        "        video_id = item[\"id\"][\"videoId\"]\n",
        "        video_ids.append(video_id)\n",
        "        st.write(f'Título: {item[\"snippet\"][\"title\"]}, Video ID: {video_id}')\n",
        "\n",
        "    # Si hay videos, procedimiento para extraer comentarios y realizar el análisis de sentimientos\n",
        "    if video_ids:\n",
        "        all_comments = []\n",
        "\n",
        "        for video_id in video_ids:\n",
        "            # Obtener comentarios del video\n",
        "            comments_request = youtube.commentThreads().list(\n",
        "                part=\"snippet\",\n",
        "                videoId=video_id,\n",
        "                maxResults=50  # Limitar a 50 comentarios por video\n",
        "            )\n",
        "\n",
        "            comments_response = comments_request.execute()\n",
        "\n",
        "            for comment_item in comments_response.get(\"items\", []):\n",
        "                comment = comment_item[\"snippet\"][\"topLevelComment\"][\"snippet\"][\"textOriginal\"]\n",
        "                all_comments.append(comment)\n",
        "\n",
        "        # Presentación de los comentarios\n",
        "        st.subheader('Comentarios extraídos')\n",
        "        st.write(all_comments)\n",
        "\n",
        "        # Análisis de sentimientos con TextBlob\n",
        "        st.subheader('Análisis de Sentimientos')\n",
        "        sentiment_scores = []\n",
        "\n",
        "        for comment in all_comments:\n",
        "            blob = TextBlob(comment)\n",
        "            sentiment = blob.sentiment.polarity  # Adquisición polaridad (-1 a 1)\n",
        "            sentiment_scores.append(sentiment)\n",
        "\n",
        "        # Presentación de los resultados del análisis\n",
        "        avg_sentiment = sum(sentiment_scores) / len(sentiment_scores) if sentiment_scores else 0\n",
        "        st.write(f'El sentimiento promedio es: {avg_sentiment:.2f}')\n",
        "        if avg_sentiment > 0:\n",
        "            st.write('Sentimiento positivo en general')\n",
        "        elif avg_sentiment < 0:\n",
        "            st.write('Sentimiento negativo en general')\n",
        "        else:\n",
        "            st.write('Sentimiento neutral en general')"
      ]
    }
  ]
}